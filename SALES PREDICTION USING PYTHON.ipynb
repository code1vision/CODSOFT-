{
 "cells": [
  {
   "cell_type": "markdown",
   "id": "ac52c5c1-7ba2-4d79-ba79-78c075e31ae5",
   "metadata": {},
   "source": [
    "# Import necessary libraries"
   ]
  },
  {
   "cell_type": "code",
   "execution_count": 34,
   "id": "0255ec29-d22e-4744-b352-873643c3c9b6",
   "metadata": {},
   "outputs": [],
   "source": [
    "import numpy as np \n",
    "import pandas as pd \n",
    "import matplotlib.pyplot as plt\n",
    "import seaborn as sns \n",
    "from sklearn.model_selection import train_test_split, GridSearchCV\n",
    "from sklearn.linear_model import LinearRegression, Ridge\n",
    "from sklearn.ensemble import RandomForestRegressor\n",
    "from sklearn.preprocessing import StandardScaler, PolynomialFeatures\n",
    "from sklearn.metrics import mean_squared_error , r2_score"
   ]
  },
  {
   "cell_type": "markdown",
   "id": "466a85e6-82fd-45c3-a021-cab20822c6c8",
   "metadata": {},
   "source": [
    "# Importing Dataset"
   ]
  },
  {
   "cell_type": "code",
   "execution_count": 35,
   "id": "a3085990-3c27-42ae-946a-91c552f42981",
   "metadata": {},
   "outputs": [],
   "source": [
    "data=pd.read_csv('C:\\\\Users\\\\rajpu\\\\Downloads\\\\advertising.csv')"
   ]
  },
  {
   "cell_type": "markdown",
   "id": "6a3f0e4a-5c76-4d4d-a353-aad066c6cf3b",
   "metadata": {},
   "source": [
    "# Let's take a lookat the first few rows of the dataset"
   ]
  },
  {
   "cell_type": "code",
   "execution_count": 36,
   "id": "df344456-5593-4ff5-b035-b634d101bd7a",
   "metadata": {},
   "outputs": [
    {
     "data": {
      "text/html": [
       "<div>\n",
       "<style scoped>\n",
       "    .dataframe tbody tr th:only-of-type {\n",
       "        vertical-align: middle;\n",
       "    }\n",
       "\n",
       "    .dataframe tbody tr th {\n",
       "        vertical-align: top;\n",
       "    }\n",
       "\n",
       "    .dataframe thead th {\n",
       "        text-align: right;\n",
       "    }\n",
       "</style>\n",
       "<table border=\"1\" class=\"dataframe\">\n",
       "  <thead>\n",
       "    <tr style=\"text-align: right;\">\n",
       "      <th></th>\n",
       "      <th>TV</th>\n",
       "      <th>Radio</th>\n",
       "      <th>Newspaper</th>\n",
       "      <th>Sales</th>\n",
       "    </tr>\n",
       "  </thead>\n",
       "  <tbody>\n",
       "    <tr>\n",
       "      <th>0</th>\n",
       "      <td>230.1</td>\n",
       "      <td>37.8</td>\n",
       "      <td>69.2</td>\n",
       "      <td>22.1</td>\n",
       "    </tr>\n",
       "    <tr>\n",
       "      <th>1</th>\n",
       "      <td>44.5</td>\n",
       "      <td>39.3</td>\n",
       "      <td>45.1</td>\n",
       "      <td>10.4</td>\n",
       "    </tr>\n",
       "    <tr>\n",
       "      <th>2</th>\n",
       "      <td>17.2</td>\n",
       "      <td>45.9</td>\n",
       "      <td>69.3</td>\n",
       "      <td>12.0</td>\n",
       "    </tr>\n",
       "    <tr>\n",
       "      <th>3</th>\n",
       "      <td>151.5</td>\n",
       "      <td>41.3</td>\n",
       "      <td>58.5</td>\n",
       "      <td>16.5</td>\n",
       "    </tr>\n",
       "    <tr>\n",
       "      <th>4</th>\n",
       "      <td>180.8</td>\n",
       "      <td>10.8</td>\n",
       "      <td>58.4</td>\n",
       "      <td>17.9</td>\n",
       "    </tr>\n",
       "    <tr>\n",
       "      <th>5</th>\n",
       "      <td>8.7</td>\n",
       "      <td>48.9</td>\n",
       "      <td>75.0</td>\n",
       "      <td>7.2</td>\n",
       "    </tr>\n",
       "    <tr>\n",
       "      <th>6</th>\n",
       "      <td>57.5</td>\n",
       "      <td>32.8</td>\n",
       "      <td>23.5</td>\n",
       "      <td>11.8</td>\n",
       "    </tr>\n",
       "    <tr>\n",
       "      <th>7</th>\n",
       "      <td>120.2</td>\n",
       "      <td>19.6</td>\n",
       "      <td>11.6</td>\n",
       "      <td>13.2</td>\n",
       "    </tr>\n",
       "    <tr>\n",
       "      <th>8</th>\n",
       "      <td>8.6</td>\n",
       "      <td>2.1</td>\n",
       "      <td>1.0</td>\n",
       "      <td>4.8</td>\n",
       "    </tr>\n",
       "    <tr>\n",
       "      <th>9</th>\n",
       "      <td>199.8</td>\n",
       "      <td>2.6</td>\n",
       "      <td>21.2</td>\n",
       "      <td>15.6</td>\n",
       "    </tr>\n",
       "  </tbody>\n",
       "</table>\n",
       "</div>"
      ],
      "text/plain": [
       "      TV  Radio  Newspaper  Sales\n",
       "0  230.1   37.8       69.2   22.1\n",
       "1   44.5   39.3       45.1   10.4\n",
       "2   17.2   45.9       69.3   12.0\n",
       "3  151.5   41.3       58.5   16.5\n",
       "4  180.8   10.8       58.4   17.9\n",
       "5    8.7   48.9       75.0    7.2\n",
       "6   57.5   32.8       23.5   11.8\n",
       "7  120.2   19.6       11.6   13.2\n",
       "8    8.6    2.1        1.0    4.8\n",
       "9  199.8    2.6       21.2   15.6"
      ]
     },
     "execution_count": 36,
     "metadata": {},
     "output_type": "execute_result"
    }
   ],
   "source": [
    "data.head(10)"
   ]
  },
  {
   "cell_type": "markdown",
   "id": "b0263dd1-22fa-46c1-b5cf-e4e5e790ac6a",
   "metadata": {},
   "source": [
    "# Data Preprocessing"
   ]
  },
  {
   "cell_type": "markdown",
   "id": "6c96828f-ac3e-43e9-b474-f995b8727c23",
   "metadata": {},
   "source": [
    "# Check for Null values"
   ]
  },
  {
   "cell_type": "code",
   "execution_count": 37,
   "id": "829a897f-e387-4cb6-928d-d7fa4b640825",
   "metadata": {},
   "outputs": [
    {
     "data": {
      "text/plain": [
       "False"
      ]
     },
     "execution_count": 37,
     "metadata": {},
     "output_type": "execute_result"
    }
   ],
   "source": [
    "data.isnull().values.any()"
   ]
  },
  {
   "cell_type": "code",
   "execution_count": 38,
   "id": "bd700903-d342-48c0-94fd-90aa7e0538bb",
   "metadata": {},
   "outputs": [
    {
     "data": {
      "text/plain": [
       "TV           0\n",
       "Radio        0\n",
       "Newspaper    0\n",
       "Sales        0\n",
       "dtype: int64"
      ]
     },
     "execution_count": 38,
     "metadata": {},
     "output_type": "execute_result"
    }
   ],
   "source": [
    "data.isnull().sum()"
   ]
  },
  {
   "cell_type": "code",
   "execution_count": 39,
   "id": "132b926a-e334-4329-bfd5-71c07f35a41f",
   "metadata": {},
   "outputs": [
    {
     "data": {
      "text/plain": [
       "<Axes: >"
      ]
     },
     "execution_count": 39,
     "metadata": {},
     "output_type": "execute_result"
    },
    {
     "data": {
      "image/png": "[encoded data removed]",
      "text/plain": [
       "<Figure size 640x480 with 2 Axes>"
      ]
     },
     "metadata": {},
     "output_type": "display_data"
    }
   ],
   "source": [
    "sns.heatmap(data.isnull(),cmap='plasma')"
   ]
  },
  {
   "cell_type": "markdown",
   "id": "8fb8a4d6-2ced-4a22-a668-ee739745a54c",
   "metadata": {},
   "source": [
    "# Feature Engineering : Adding Interaction Term"
   ]
  },
  {
   "cell_type": "code",
   "execution_count": 40,
   "id": "7c1f18ea-649c-4b12-9277-fcc508d505a1",
   "metadata": {},
   "outputs": [],
   "source": [
    "data['TV_Radio']=data['TV']*data['Radio']\n",
    "data['TV_Newspaper']=data['TV']*data['Newspaper']\n",
    "data['Radio_Newspaper']=data['Radio']*data['Newspaper']"
   ]
  },
  {
   "cell_type": "markdown",
   "id": "cc222f81-354d-4fa2-ae3d-4f22f6beda21",
   "metadata": {},
   "source": [
    "# Define features and target variable"
   ]
  },
  {
   "cell_type": "code",
   "execution_count": 41,
   "id": "6131ab61-2d6b-47bf-ac9c-cd108f854317",
   "metadata": {},
   "outputs": [],
   "source": [
    "X= data[['TV','Radio','Newspaper','TV_Radio','TV_Newspaper','Radio_Newspaper']]\n",
    "y= data['Sales']"
   ]
  },
  {
   "cell_type": "markdown",
   "id": "4e238883-4181-4b83-bf1a-e7c1744c37ed",
   "metadata": {},
   "source": [
    "# Split the data into traning and testing sets"
   ]
  },
  {
   "cell_type": "code",
   "execution_count": 42,
   "id": "2948a4dc-dd40-4342-9fdf-ff666f84e0b6",
   "metadata": {},
   "outputs": [],
   "source": [
    "X_train, X_test, y_train, y_test = train_test_split(X,y, test_size=0.2 , random_state=42)"
   ]
  },
  {
   "cell_type": "markdown",
   "id": "d66e83d5-7673-474a-8b03-ae1224bdad9b",
   "metadata": {},
   "source": [
    "# Standardize the data"
   ]
  },
  {
   "cell_type": "code",
   "execution_count": 43,
   "id": "36afc99b-8158-4545-85be-0b0c54c8618a",
   "metadata": {},
   "outputs": [],
   "source": [
    "scaler= StandardScaler()\n",
    "X_train = scaler.fit_transform(X_train)\n",
    "X_test= scaler.transform(X_test)"
   ]
  },
  {
   "cell_type": "markdown",
   "id": "41397a51-aaae-435a-ba53-73d4115aa26b",
   "metadata": {},
   "source": [
    "# Linear Regression"
   ]
  },
  {
   "cell_type": "code",
   "execution_count": 44,
   "id": "664810e7-3a1d-4f28-860b-56a7eb2a6329",
   "metadata": {},
   "outputs": [],
   "source": [
    "linear_model=LinearRegression()\n",
    "linear_model.fit(X_train ,y_train)\n",
    "y_pred_linear=linear_model.predict(X_test)\n",
    "mse_linear= mean_squared_error(y_test, y_pred_linear)\n",
    "r2_linear= r2_score(y_test , y_pred_linear)"
   ]
  },
  {
   "cell_type": "markdown",
   "id": "d3248a73-becc-4c12-8489-6a655b772369",
   "metadata": {},
   "source": [
    "# Ridge Regression with Hyperparameter Tuning"
   ]
  },
  {
   "cell_type": "code",
   "execution_count": 46,
   "id": "8cf65c33-0797-4d3a-9b04-6270fd78e6b0",
   "metadata": {},
   "outputs": [],
   "source": [
    "ridge =Ridge()\n",
    "params= {'alpha': [0.1,0.1,0.1,100.0]}\n",
    "grid_ridge=GridSearchCV(ridge,params, cv=5)\n",
    "grid_ridge.fit(X_train ,y_train)\n",
    "y_pred_ridge=grid_ridge.predict(X_test)\n",
    "mse_ridge= mean_squared_error(y_test, y_pred_ridge)\n",
    "r2_ridge= r2_score(y_test , y_pred_ridge)"
   ]
  },
  {
   "cell_type": "markdown",
   "id": "3f83a4ff-aefe-445c-b2d2-7c7ba9276a27",
   "metadata": {},
   "source": [
    "# Random Forest Regression with Hyperparameter Tuning"
   ]
  },
  {
   "cell_type": "code",
   "execution_count": 49,
   "id": "87717da4-4847-44fc-83d5-e0ea4f7ec4c2",
   "metadata": {},
   "outputs": [],
   "source": [
    "rf=RandomForestRegressor(random_state=42)\n",
    "params_rf= {'n_estimators': [50,100,200],'max_depth': [None,10,20,30]}\n",
    "grid_rf=GridSearchCV(rf,params_rf, cv=5)\n",
    "grid_rf.fit(X_train ,y_train)\n",
    "y_pred_rf=grid_rf.predict(X_test)\n",
    "mse_rf= mean_squared_error(y_test, y_pred_rf)\n",
    "r2_rf= r2_score(y_test , y_pred_rf)"
   ]
  },
  {
   "cell_type": "markdown",
   "id": "74b94526-8d39-45cc-b567-d898377542b1",
   "metadata": {},
   "source": [
    "# Print the results"
   ]
  },
  {
   "cell_type": "code",
   "execution_count": 50,
   "id": "f42c2060-a2d2-43c2-a53b-5c949e10e30c",
   "metadata": {},
   "outputs": [
    {
     "name": "stdout",
     "output_type": "stream",
     "text": [
      "Linear Regression MSE: 2.337596061234953, R^2:0.9243523349901799\n"
     ]
    }
   ],
   "source": [
    "print(f'Linear Regression MSE: {mse_linear}, R^2:{r2_linear}')"
   ]
  },
  {
   "cell_type": "code",
   "execution_count": 51,
   "id": "55031bf0-feba-4ab8-946d-8d911c4ec614",
   "metadata": {},
   "outputs": [
    {
     "name": "stdout",
     "output_type": "stream",
     "text": [
      "Ridge Regression MSE: 2.337276221445104, R^2:0.9243626854239783\n"
     ]
    }
   ],
   "source": [
    "print(f'Ridge Regression MSE: {mse_ridge}, R^2:{r2_ridge}')"
   ]
  },
  {
   "cell_type": "code",
   "execution_count": 52,
   "id": "b9d1ccfb-5630-44c6-8005-ac230ca4fd94",
   "metadata": {},
   "outputs": [
    {
     "name": "stdout",
     "output_type": "stream",
     "text": [
      "rf Regression MSE: 1.2472452386023067, R^2:0.9596375132729156\n"
     ]
    }
   ],
   "source": [
    "print(f'rf Regression MSE: {mse_rf}, R^2:{r2_rf}')"
   ]
  },
  {
   "cell_type": "markdown",
   "id": "932b93f9-ca8f-494f-98d4-15719b0d11e7",
   "metadata": {},
   "source": [
    "#  Visualization of Actual vs Predicted"
   ]
  },
  {
   "cell_type": "code",
   "execution_count": 53,
   "id": "411efb11-b752-4f13-a52a-b25e62db37eb",
   "metadata": {},
   "outputs": [
    {
     "data": {
      "text/plain": [
       "<Figure size 1200x600 with 0 Axes>"
      ]
     },
     "execution_count": 53,
     "metadata": {},
     "output_type": "execute_result"
    },
    {
     "data": {
      "text/plain": [
       "<Figure size 1200x600 with 0 Axes>"
      ]
     },
     "metadata": {},
     "output_type": "display_data"
    }
   ],
   "source": [
    "plt.figure(figsize=(12,6))"
   ]
  },
  {
   "cell_type": "code",
   "execution_count": 59,
   "id": "6f7b8a9b-befa-4538-80b1-4c65f16f5332",
   "metadata": {},
   "outputs": [
    {
     "data": {
      "text/plain": [
       "<matplotlib.legend.Legend at 0x1915e779850>"
      ]
     },
     "execution_count": 59,
     "metadata": {},
     "output_type": "execute_result"
    },
    {
     "data": {
      "image/png": "[encoded data removed]",
      "text/plain": [
       "<Figure size 640x480 with 1 Axes>"
      ]
     },
     "metadata": {},
     "output_type": "display_data"
    }
   ],
   "source": [
    "plt.subplot(1,3,1)\n",
    "plt.scatter(y_test, y_pred_linear,color='green',label='Predicted vs Actual')\n",
    "plt.plot([min(y_test),max(y_test)],[min(y_test),max(y_test)],color='red',linewidth=2,label='Ideal Fit')\n",
    "plt.xlabel('Actual Sales')\n",
    "plt.ylabel('Predicted Sales')\n",
    "plt.title('Ridge Regression')\n",
    "plt.legend()\n",
    "plt.subplot(1,3,1)\n",
    "plt.scatter(y_test, y_pred_linear,color='black',label='Predicted vs Actual')\n",
    "plt.plot([min(y_test),max(y_test)],[min(y_test),max(y_test)],color='red',linewidth=2,label='Ideal Fit')\n",
    "plt.xlabel('Actual Sales')\n",
    "plt.ylabel('Predicted Sales')\n",
    "plt.title('Random Forest Regression')\n",
    "plt.legend()"
   ]
  },
  {
   "cell_type": "code",
   "execution_count": null,
   "id": "560e9a51-0b6e-4d45-90aa-b00b8a60c736",
   "metadata": {},
   "outputs": [],
   "source": []
  }
 ],
 "metadata": {
  "kernelspec": {
   "display_name": "Python 3 (ipykernel)",
   "language": "python",
   "name": "python3"
  },
  "language_info": {
   "codemirror_mode": {
    "name": "ipython",
    "version": 3
   },
   "file_extension": ".py",
   "mimetype": "text/x-python",
   "name": "python",
   "nbconvert_exporter": "python",
   "pygments_lexer": "ipython3",
   "version": "3.11.7"
  }
 },
 "nbformat": 4,
 "nbformat_minor": 5
}
